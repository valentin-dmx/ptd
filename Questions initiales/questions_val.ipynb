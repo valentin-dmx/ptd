{
 "cells": [
  {
   "cell_type": "code",
   "execution_count": 3,
   "id": "601adf5f",
   "metadata": {},
   "outputs": [],
   "source": [
    "import pandas as pd\n",
    "import numpy as np\n",
    "import matplotlib.pyplot as plt"
   ]
  },
  {
   "cell_type": "code",
   "execution_count": 4,
   "id": "8702cba5",
   "metadata": {},
   "outputs": [],
   "source": [
    "df_matchs = pd.read_csv(\"donnees_football\\\\Match.csv\")\n",
    "df_country = pd.read_csv(\"donnees_football\\\\Country.csv\")\n",
    "df_league = pd.read_csv(\"donnees_football\\\\League.csv\")\n",
    "df_player_att = pd.read_csv(\"donnees_football\\\\Player_Attributes.csv\")\n",
    "df_player = pd.read_csv(\"donnees_football\\\\Player.csv\")\n",
    "df_team_attributes = pd.read_csv(\"donnees_football\\\\Team_Attributes.csv\")\n",
    "df_team = pd.read_csv(\"donnees_football\\\\Team.csv\")"
   ]
  },
  {
   "cell_type": "markdown",
   "id": "39607cfe",
   "metadata": {},
   "source": [
    "Question 4: Quelle équipe a gagné le plus de matchs en une seule saison sur toute la période du jeu de données ?\n"
   ]
  },
  {
   "cell_type": "code",
   "execution_count": null,
   "id": "811c25a6",
   "metadata": {},
   "outputs": [],
   "source": [
    "def question4():\n",
    "    \"\"\" \n",
    "    Renvoie le nom et le score de l'équipe qui a marqué le but par saison.\n",
    "\n",
    "    Returns\n",
    "    -------\n",
    "    str[season: str, nom_equipe: str, nb_buts: int]\n",
    "    \"\"\"\n",
    "    gagnants = []\n",
    "    equipes = {}\n",
    "    for equipe in df_team['team_api_id']:\n",
    "        equipes[equipe] = 0\n",
    "\n",
    "    for saison in df_matchs['season'].unique():\n",
    "        donnees_travail = df_matchs[df_matchs['season'] == saison]\n",
    "        equicopy = equipes.copy()\n",
    "        for i in range (len(donnees_travail)):\n",
    "            buts_home = donnees_travail['home_team_goal'].iloc[i]\n",
    "            buts_away = donnees_travail['away_team_goal'].iloc[i]\n",
    "            team_home = donnees_travail['home_team_api_id'].iloc[i]\n",
    "            team_away = donnees_travail['away_team_api_id'].iloc[i]\n",
    "            if  buts_home > buts_away:\n",
    "                equicopy[team_home] += 1\n",
    "            elif buts_home < buts_away:\n",
    "                equicopy[team_away] += 1\n",
    "        id_gagnant = max(equicopy, key=equicopy.get)\n",
    "        nom_gagnant = df_team[df_team['team_api_id'] == id_gagnant]['team_long_name'].values[0]\n",
    "        nb_buts = equicopy[id_gagnant]\n",
    "        gagnants.append((saison, nom_gagnant, nb_buts))\n",
    "    victoires = [triple[2] for triple in gagnants]\n",
    "    indice = victoires.index(max(victoires))\n",
    "    interest = gagnants[indice]\n",
    "    return f\"L'équipe qui a gagné le plus de but en une saison de 2008 à 2016 est \\\n",
    "{interest[1]} pour la saison {interest[0]} avec {interest[2]} victoires\""
   ]
  },
  {
   "cell_type": "code",
   "execution_count": 6,
   "id": "06e2382e",
   "metadata": {},
   "outputs": [
    {
     "data": {
      "text/plain": [
       "\"L'équipe qui a gagné le plus de but en une saison de 2008 à 2016 est Juventus pour la saison 2013/2014 avec 33 victoires\""
      ]
     },
     "execution_count": 6,
     "metadata": {},
     "output_type": "execute_result"
    }
   ],
   "source": [
    "question4()"
   ]
  },
  {
   "cell_type": "markdown",
   "id": "77f0a9a0",
   "metadata": {},
   "source": [
    "Question 5: Quels sont les 10 joueurs ayant joué le plus de matchs sur toute la période du jeu de données ?"
   ]
  },
  {
   "cell_type": "code",
   "execution_count": 48,
   "id": "3a4ef9b1",
   "metadata": {},
   "outputs": [],
   "source": [
    "liste_interet = ['home_player_1', 'home_player_2', 'home_player_3', 'home_player_4', 'home_player_5', 'home_player_6', 'home_player_7', \n",
    "                'home_player_8', 'home_player_9', 'home_player_10', 'home_player_11', 'away_player_1', 'away_player_2', \n",
    "                'away_player_3', 'away_player_4', 'away_player_5', 'away_player_6', 'away_player_7', 'away_player_8', 'away_player_9', \n",
    "                'away_player_10', 'away_player_11']"
   ]
  },
  {
   "cell_type": "code",
   "execution_count": null,
   "id": "20834891",
   "metadata": {},
   "outputs": [],
   "source": [
    "def question5():\n",
    "    \"\"\"\n",
    "    Renvoie la liste des 10 joueurs qui ont joué le plus de matchs de la saison 2008/2009 à la saison 2015/2016.\n",
    "    \"\"\"\n",
    "    dico = {}\n",
    "    for i in range(len(df_matchs)):\n",
    "        for num in liste_interet:\n",
    "            joueur = df_matchs.loc[i][num]\n",
    "            if joueur in list(dico.keys()):\n",
    "                dico[joueur] += 1\n",
    "            elif not np.isnan(joueur):\n",
    "                dico[joueur] = 1\n",
    "    liste_joueurs = []\n",
    "    liste_finale = []\n",
    "    for i in range(10):\n",
    "        j = max(dico)\n",
    "        liste_joueurs.append(j)\n",
    "        del dico[j]\n",
    "    for joueur in liste_joueurs:\n",
    "        liste_finale.append(df_player[df_player['player_api_id']==joueur].reset_index().at[0,'player_name'])\n",
    "    return f'Les 10 joueurs ayant joué le plus de matchs de 2008 à 2016 sont \\\n",
    "{liste_finale[0]}, {liste_finale[1]}, {liste_finale[2]}, {liste_finale[3]}, {liste_finale[4]}, {liste_finale[5]}, \\\n",
    "{liste_finale[6]}, {liste_finale[7]}, {liste_finale[8]} et {liste_finale[9]}.'"
   ]
  },
  {
   "cell_type": "code",
   "execution_count": 8,
   "id": "d4989a73",
   "metadata": {},
   "outputs": [
    {
     "data": {
      "text/plain": [
       "'Les 10 joueurs ayant joué le plus de matchs de 2008 à 2016 sont Alexandre Azevedo, Rees Greenwood, Fynn Arkenberg, Francisco Afonso, Greg Taylor, Charles Pickel, Tom Davies, Linus Obexer, Jorge Intima et Kamil Jozwiak.'"
      ]
     },
     "execution_count": 8,
     "metadata": {},
     "output_type": "execute_result"
    }
   ],
   "source": [
    "question5()"
   ]
  },
  {
   "cell_type": "markdown",
   "id": "22b4e351",
   "metadata": {},
   "source": [
    "Question 8: Quelles sont les 3 formations de jeu les plus courantes lors de la saison 2015/2016 ?"
   ]
  },
  {
   "cell_type": "code",
   "execution_count": 9,
   "id": "8cc28324",
   "metadata": {},
   "outputs": [],
   "source": [
    "liste_positions = [['home_player_X1','home_player_X2','home_player_X3','home_player_X4','home_player_X5','home_player_X6','home_player_X7','home_player_X8', 'home_player_X9','home_player_X10','home_player_X11'],['away_player_X1','away_player_X2','away_player_X3','away_player_X4','away_player_X5','away_player_X6','away_player_X7','away_player_X8','away_player_X9','away_player_X10','away_player_X11'],['home_player_Y1','home_player_Y2','home_player_Y3','home_player_Y4','home_player_Y5','home_player_Y6','home_player_Y7','home_player_Y8','home_player_Y9','home_player_Y10','home_player_Y11'],['away_player_Y1','away_player_Y2','away_player_Y3','away_player_Y4','away_player_Y5','away_player_Y6','away_player_Y7','away_player_Y8','away_player_Y9','away_player_Y10','away_player_Y11']]\n",
    "df_interet = df_matchs[df_matchs['season'] == '2015/2016'].reset_index()\n"
   ]
  },
  {
   "cell_type": "code",
   "execution_count": null,
   "id": "1be4d231",
   "metadata": {},
   "outputs": [],
   "source": [
    "def affichage_dico(dic, n):\n",
    "    \"\"\"\n",
    "    Affiche les clés d'un dictionnaire correspondant aux n plus hautes valeurs.\n",
    "\n",
    "    Parameters\n",
    "    -------\n",
    "    dic: dict[key: int, value: int], n: int\n",
    "\n",
    "    Returns\n",
    "    -------\n",
    "    list[int]\n",
    "    \"\"\"\n",
    "    couples = [(dic[i], i) for i in range(len(list(dic.keys())))]\n",
    "    couples.sort(reverse=True)\n",
    "    return [list(dic.keys())[coup[1]] for coup in couples[:n]]\n",
    "\n",
    "\n",
    "def affichage_formations(posi):\n",
    "    \"\"\"\n",
    "    Affiche des points (x, y) sur un plan.\n",
    "    \n",
    "    Parameters\n",
    "    -------\n",
    "    posi: list[tuple[float]]\n",
    "        Liste de tuples (x, y)\n",
    "    \"\"\"\n",
    "    xval = [pos[0] for pos in posi]\n",
    "    yval = [pos[1] for pos in posi]\n",
    "    plt.figure()\n",
    "    plt.scatter(xval, yval, color='blue', marker='o')\n",
    "\n",
    "    # Affichage des axes et de la grille\n",
    "    plt.axhline(0, color='black', linewidth=0.5)\n",
    "    plt.axvline(0, color='black', linewidth=0.5)\n",
    "    plt.grid(True)\n",
    "\n",
    "    plt.title('Formation sur le terrain')\n",
    "    plt.xlabel('x')\n",
    "    plt.ylabel('y')\n",
    "\n",
    "    plt.autoscale(enable=True, axis='both', tight=False)\n",
    "\n",
    "    plt.show()\n"
   ]
  },
  {
   "cell_type": "code",
   "execution_count": null,
   "id": "612fecf2",
   "metadata": {},
   "outputs": [],
   "source": [
    "def question8():\n",
    "    \"\"\"\n",
    "    Renvoie les 3 formations de jeu les plus courantes de la saison 2015/2016.\n",
    "    \"\"\"\n",
    "    nom_formations = ['4-5-1', '4-3-3', '4-4-2']\n",
    "    formations = []\n",
    "    compteur = {}\n",
    "    for mat in range(len(df_interet)):\n",
    "        home = []\n",
    "        away = []\n",
    "        for i in range(11):\n",
    "            home.append((df_interet.at[mat, liste_positions[0][i]], df_interet.at[mat, liste_positions[2][i]]))\n",
    "            away.append((df_interet.at[mat, liste_positions[1][i]], df_interet.at[mat, liste_positions[3][i]]))\n",
    "        home.sort()\n",
    "        away.sort()\n",
    "        for j in [home, away]:\n",
    "            if j not in formations:\n",
    "                formations.append(j)\n",
    "                ind = formations.index(j)\n",
    "                compteur[ind] = 1\n",
    "            else:\n",
    "                ind = formations.index(j)\n",
    "                compteur[ind] += 1\n",
    "    for i in affichage_dico(compteur, 3):\n",
    "        nb = len(df_interet)\n",
    "        affichage_formations(formations[i])\n",
    "        print(f'La formation dite en {nom_formations[i-1]} a été adoptée par une équipe dans {round((compteur[i]/nb)*50)}% des cas.')"
   ]
  },
  {
   "cell_type": "code",
   "execution_count": 37,
   "id": "650117ab",
   "metadata": {},
   "outputs": [
    {
     "data": {
      "image/png": "[encoded data removed]",
      "text/plain": [
       "<Figure size 640x480 with 1 Axes>"
      ]
     },
     "metadata": {},
     "output_type": "display_data"
    },
    {
     "name": "stdout",
     "output_type": "stream",
     "text": [
      "La formation dite en 4-3-3 a été adoptée par une équipe dans 35% des cas.\n"
     ]
    },
    {
     "data": {
      "image/png": "[encoded data removed]",
      "text/plain": [
       "<Figure size 640x480 with 1 Axes>"
      ]
     },
     "metadata": {},
     "output_type": "display_data"
    },
    {
     "name": "stdout",
     "output_type": "stream",
     "text": [
      "La formation dite en 4-4-2 a été adoptée par une équipe dans 24% des cas.\n"
     ]
    },
    {
     "data": {
      "image/png": "[encoded data removed]",
      "text/plain": [
       "<Figure size 640x480 with 1 Axes>"
      ]
     },
     "metadata": {},
     "output_type": "display_data"
    },
    {
     "name": "stdout",
     "output_type": "stream",
     "text": [
      "La formation dite en 4-5-1 a été adoptée par une équipe dans 16% des cas.\n"
     ]
    }
   ],
   "source": [
    "question8()"
   ]
  },
  {
   "cell_type": "code",
   "execution_count": 49,
   "id": "549688fd",
   "metadata": {},
   "outputs": [
    {
     "name": "stdout",
     "output_type": "stream",
     "text": [
      "False\n"
     ]
    }
   ],
   "source": [
    "#Verification aucune donnée manquante \n",
    "\n",
    "test = []\n",
    "for num in range(4):\n",
    "    for posi in liste_positions[num]:\n",
    "        df_interet = df_matchs[df_matchs['season'] == '2015/2016'].reset_index()\n",
    "        test.append(sum([np.isnan(df_interet.at[i, posi]) for i in range(len(df_interet))]))\n",
    "print(any(test))"
   ]
  },
  {
   "cell_type": "markdown",
   "id": "7340a59a",
   "metadata": {},
   "source": [
    "Question 9"
   ]
  },
  {
   "cell_type": "code",
   "execution_count": 41,
   "id": "a8d37184",
   "metadata": {},
   "outputs": [],
   "source": [
    "formations = [[(np.float64(1.0), np.float64(1.0)), (np.float64(2.0), np.float64(3.0)), (np.float64(3.0), np.float64(8.0)), (np.float64(4.0), np.float64(3.0)), (np.float64(4.0), np.float64(6.0)), (np.float64(5.0), np.float64(8.0)), (np.float64(5.0), np.float64(11.0)), (np.float64(6.0), np.float64(3.0)), (np.float64(6.0), np.float64(6.0)), (np.float64(7.0), np.float64(8.0)), (np.float64(8.0), np.float64(3.0))],\n",
    "              [(np.float64(1.0), np.float64(1.0)), (np.float64(2.0), np.float64(3.0)), (np.float64(3.0), np.float64(7.0)), (np.float64(3.0), np.float64(10.0)), (np.float64(4.0), np.float64(3.0)), (np.float64(5.0), np.float64(7.0)), (np.float64(5.0), np.float64(10.0)), (np.float64(6.0), np.float64(3.0)), (np.float64(7.0), np.float64(7.0)), (np.float64(7.0), np.float64(10.0)), (np.float64(8.0), np.float64(3.0))],\n",
    "              [(np.float64(1.0), np.float64(1.0)), (np.float64(2.0), np.float64(3.0)), (np.float64(2.0), np.float64(7.0)), (np.float64(4.0), np.float64(3.0)), (np.float64(4.0), np.float64(7.0)), (np.float64(4.0), np.float64(10.0)), (np.float64(6.0), np.float64(3.0)), (np.float64(6.0), np.float64(7.0)), (np.float64(6.0), np.float64(10.0)), (np.float64(8.0), np.float64(3.0)), (np.float64(8.0), np.float64(7.0))]]\n"
   ]
  },
  {
   "cell_type": "code",
   "execution_count": null,
   "id": "f338c437",
   "metadata": {},
   "outputs": [],
   "source": [
    "def affiche_bar(dic):\n",
    "    \"\"\"\n",
    "    Affiche un graphique en barre double, prenant en compte les valeurs d'un dictionnaire.\n",
    "\n",
    "    Parameters\n",
    "    -------\n",
    "    dic: dict[key: -, value: tuple[float, float]]\n",
    "    \"\"\"\n",
    "    x = np.arange(3)\n",
    "    largeur = 0.35  # largeur des barres\n",
    "    val1 = [dic[i+1][0] for i in range(3)]\n",
    "    val2 = [dic[i+1][1] for i in range(3)]\n",
    "\n",
    "    plt.bar(x - largeur/2, val1, width=largeur, label='Buts marqués', color='blue')\n",
    "    plt.bar(x + largeur/2, val2, width=largeur, label='Buts encaissés', color='red')\n",
    "\n",
    "    plt.xlabel('Formations')\n",
    "    plt.ylabel('Buts')\n",
    "    plt.title(\"Buts marqués et encaissés en moyenne \\nselon la formation de l'équipe\")\n",
    "    plt.xticks(x, ['4-5-1', '4-3-3', '4-4-2'])\n",
    "    plt.legend()\n",
    "    plt.grid(True, axis='y', linestyle='--', alpha=0.7)\n",
    "\n",
    "    plt.tight_layout()\n",
    "    plt.show()"
   ]
  },
  {
   "cell_type": "code",
   "execution_count": null,
   "id": "47e92421",
   "metadata": {},
   "outputs": [],
   "source": [
    "def question9():\n",
    "    \"\"\"\n",
    "    Affiche un graphique en barre double résumant le nombre moyen de buts marqués et encaissés par les équipe selon la formation choisie.\n",
    "    \n",
    "    Return\n",
    "    -------\n",
    "    str[int]\n",
    "    \"\"\"\n",
    "    res = {1:(0, 0), 2:(0, 0), 3:(0, 0)}\n",
    "    compte = [0, 0, 0]\n",
    "    for mat in range(len(df_interet)):\n",
    "        home = []\n",
    "        away = []\n",
    "        for i in range(11):\n",
    "            home.append((df_interet.at[mat, liste_positions[0][i]], df_interet.at[mat, liste_positions[2][i]]))\n",
    "            away.append((df_interet.at[mat, liste_positions[1][i]], df_interet.at[mat, liste_positions[3][i]]))\n",
    "        home.sort()\n",
    "        away.sort()\n",
    "        for j in [home, away]:\n",
    "            if j in formations:\n",
    "                indice = formations.index(j)\n",
    "                score = res[indice + 1]\n",
    "                compte[indice - 1] += 1\n",
    "                home_score = df_interet.at[mat, 'home_team_goal']\n",
    "                away_score = df_interet.at[mat, 'away_team_goal']\n",
    "                if j == home:\n",
    "                    res[formations.index(j) + 1] = (score[0] + home_score, score[1] + away_score)\n",
    "                else:\n",
    "                    res[formations.index(j) + 1] = (score[0] + away_score, score[1] + home_score)\n",
    "    for key in list(res.keys()):\n",
    "        nb = compte[key - 1]\n",
    "        res[key] = (float(round(res[key][0]/nb, 1)), float(round(res[key][1]/nb, 1)))\n",
    "    affiche_bar(res)\n",
    "    return f\"En moyenne, les équipes ayant opté pour une formation en 4-5-1 ont marqué {res[1][0]} buts et en on encaissé {res[1][1]}, \\\n",
    "celles ayant choisi une formation en 4-3-3 en ont marqué {res[2][0]} et encaissé {res[2][1]}, et celles ayant préféré une formation en \\\n",
    "4-4-2 ont marqué {res[3][0]} buts et en ont encaissé {res[3][1]}.\""
   ]
  },
  {
   "cell_type": "code",
   "execution_count": 55,
   "id": "57716eac",
   "metadata": {},
   "outputs": [
    {
     "data": {
      "image/png": "[encoded data removed]",
      "text/plain": [
       "<Figure size 640x480 with 1 Axes>"
      ]
     },
     "metadata": {},
     "output_type": "display_data"
    },
    {
     "data": {
      "text/plain": [
       "'En moyenne, les équipes ayant opté pour une formation en 4-5-1 ont marqué 2.1 buts et en on encaissé 1.9, celles ayant choisi une formation en 4-3-3 en ont marqué 2.3 et encaissé 1.9, et celles ayant préféré une formation en 4-4-2 ont marqué 0.7 buts et en ont encaissé 0.6.'"
      ]
     },
     "execution_count": 55,
     "metadata": {},
     "output_type": "execute_result"
    }
   ],
   "source": [
    "question9()"
   ]
  }
 ],
 "metadata": {
  "kernelspec": {
   "display_name": "Python 3",
   "language": "python",
   "name": "python3"
  },
  "language_info": {
   "codemirror_mode": {
    "name": "ipython",
    "version": 3
   },
   "file_extension": ".py",
   "mimetype": "text/x-python",
   "name": "python",
   "nbconvert_exporter": "python",
   "pygments_lexer": "ipython3",
   "version": "3.13.3"
  }
 },
 "nbformat": 4,
 "nbformat_minor": 5
}
